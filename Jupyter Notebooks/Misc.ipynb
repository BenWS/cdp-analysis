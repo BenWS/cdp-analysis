{
 "metadata": {
  "language_info": {
   "codemirror_mode": {
    "name": "ipython",
    "version": 3
   },
   "file_extension": ".py",
   "mimetype": "text/x-python",
   "name": "python",
   "nbconvert_exporter": "python",
   "pygments_lexer": "ipython3",
   "version": "3.8.5"
  },
  "orig_nbformat": 4,
  "kernelspec": {
   "name": "python3",
   "display_name": "Python 3.8.5 64-bit ('base': conda)"
  },
  "interpreter": {
   "hash": "c64ecc72c06fd3268d71643271820c55602207de2ad84992d2bee16cc0166cb6"
  }
 },
 "nbformat": 4,
 "nbformat_minor": 2,
 "cells": [
  {
   "cell_type": "code",
   "execution_count": 1,
   "metadata": {},
   "outputs": [],
   "source": [
    "import pandas as pd\n",
    "from pandas import DataFrame, Series"
   ]
  },
  {
   "cell_type": "code",
   "execution_count": 2,
   "metadata": {},
   "outputs": [],
   "source": [
    "data_root_dir = '..\\..\\cdp-unlocking-climate-solutions'\n",
    "data_cities_dir = data_root_dir + '\\cities\\cities responses\\\\'"
   ]
  },
  {
   "cell_type": "code",
   "execution_count": 3,
   "metadata": {},
   "outputs": [],
   "source": [
    "file = '%s\\\\2020_Full_Cities_Dataset.csv' % data_cities_dir\n",
    "\n",
    "dataframe = pd.read_csv(file)"
   ]
  },
  {
   "cell_type": "code",
   "execution_count": 6,
   "metadata": {},
   "outputs": [],
   "source": [
    "dataframe.head().to_clipboard()"
   ]
  },
  {
   "cell_type": "code",
   "execution_count": 20,
   "metadata": {},
   "outputs": [],
   "source": [
    "dataframe_cities_disc = pd.read_csv(data_root_dir + \"\\Cities\\Cities Disclosing\\\\2018_Cities_Disclosing_to_CDP.csv\")"
   ]
  },
  {
   "cell_type": "code",
   "execution_count": 23,
   "metadata": {},
   "outputs": [
    {
     "output_type": "execute_result",
     "data": {
      "text/plain": [
       "     Year Reported to CDP  Account Number     Organization     City  \\\n",
       "464                  2018            1093  City of Atlanta  Atlanta   \n",
       "\n",
       "                      Country     CDP Region Reporting Authority  Access  \\\n",
       "464  United States of America  North America          CDP Cities  public   \n",
       "\n",
       "    First Time Discloser  Population  Population Year           City Location  \\\n",
       "464                   No    450182.0             2017  POINT (-84.388 33.749)   \n",
       "\n",
       "                 Last update  \n",
       "464  2020-06-25T04:52:49.050  "
      ],
      "text/html": "<div>\n<style scoped>\n    .dataframe tbody tr th:only-of-type {\n        vertical-align: middle;\n    }\n\n    .dataframe tbody tr th {\n        vertical-align: top;\n    }\n\n    .dataframe thead th {\n        text-align: right;\n    }\n</style>\n<table border=\"1\" class=\"dataframe\">\n  <thead>\n    <tr style=\"text-align: right;\">\n      <th></th>\n      <th>Year Reported to CDP</th>\n      <th>Account Number</th>\n      <th>Organization</th>\n      <th>City</th>\n      <th>Country</th>\n      <th>CDP Region</th>\n      <th>Reporting Authority</th>\n      <th>Access</th>\n      <th>First Time Discloser</th>\n      <th>Population</th>\n      <th>Population Year</th>\n      <th>City Location</th>\n      <th>Last update</th>\n    </tr>\n  </thead>\n  <tbody>\n    <tr>\n      <th>464</th>\n      <td>2018</td>\n      <td>1093</td>\n      <td>City of Atlanta</td>\n      <td>Atlanta</td>\n      <td>United States of America</td>\n      <td>North America</td>\n      <td>CDP Cities</td>\n      <td>public</td>\n      <td>No</td>\n      <td>450182.0</td>\n      <td>2017</td>\n      <td>POINT (-84.388 33.749)</td>\n      <td>2020-06-25T04:52:49.050</td>\n    </tr>\n  </tbody>\n</table>\n</div>"
     },
     "metadata": {},
     "execution_count": 23
    }
   ],
   "source": [
    "dataframe_cities_disc.head()\n",
    "dataframe_cities_disc[dataframe_cities_disc['City'] == 'Atlanta']"
   ]
  },
  {
   "cell_type": "code",
   "execution_count": 6,
   "metadata": {},
   "outputs": [],
   "source": [
    "groupby_cities_disc = dataframe_cities_disc.groupby('Country')"
   ]
  },
  {
   "cell_type": "code",
   "execution_count": 7,
   "metadata": {
    "tags": []
   },
   "outputs": [],
   "source": [
    "# instantiate output dataframe\n",
    "# for each group in input dataframe\n",
    "    # add row to output dataframe\n",
    "\n",
    "def get_count_distinct(dframe,column):\n",
    "    return Series({'count':dframe[column].unique()})\n",
    "\n",
    "dataframe_output = dataframe_cities_disc.groupby(['Country']).size()"
   ]
  },
  {
   "cell_type": "code",
   "execution_count": 9,
   "metadata": {},
   "outputs": [
    {
     "output_type": "execute_result",
     "data": {
      "text/plain": [
       "                            0\n",
       "Country                      \n",
       "United States of America  162\n",
       "Brazil                     96\n",
       "Portugal                   27\n",
       "Italy                      25\n",
       "Canada                     25\n",
       "...                       ...\n",
       "Montenegro                  1\n",
       "Pakistan                    1\n",
       "Paraguay                    1\n",
       "Russian Federation          1\n",
       "Malaysia                    1\n",
       "\n",
       "[88 rows x 1 columns]"
      ],
      "text/html": "<div>\n<style scoped>\n    .dataframe tbody tr th:only-of-type {\n        vertical-align: middle;\n    }\n\n    .dataframe tbody tr th {\n        vertical-align: top;\n    }\n\n    .dataframe thead th {\n        text-align: right;\n    }\n</style>\n<table border=\"1\" class=\"dataframe\">\n  <thead>\n    <tr style=\"text-align: right;\">\n      <th></th>\n      <th>0</th>\n    </tr>\n    <tr>\n      <th>Country</th>\n      <th></th>\n    </tr>\n  </thead>\n  <tbody>\n    <tr>\n      <th>United States of America</th>\n      <td>162</td>\n    </tr>\n    <tr>\n      <th>Brazil</th>\n      <td>96</td>\n    </tr>\n    <tr>\n      <th>Portugal</th>\n      <td>27</td>\n    </tr>\n    <tr>\n      <th>Italy</th>\n      <td>25</td>\n    </tr>\n    <tr>\n      <th>Canada</th>\n      <td>25</td>\n    </tr>\n    <tr>\n      <th>...</th>\n      <td>...</td>\n    </tr>\n    <tr>\n      <th>Montenegro</th>\n      <td>1</td>\n    </tr>\n    <tr>\n      <th>Pakistan</th>\n      <td>1</td>\n    </tr>\n    <tr>\n      <th>Paraguay</th>\n      <td>1</td>\n    </tr>\n    <tr>\n      <th>Russian Federation</th>\n      <td>1</td>\n    </tr>\n    <tr>\n      <th>Malaysia</th>\n      <td>1</td>\n    </tr>\n  </tbody>\n</table>\n<p>88 rows × 1 columns</p>\n</div>"
     },
     "metadata": {},
     "execution_count": 9
    }
   ],
   "source": [
    "DataFrame(dataframe_output).sort_values([0], ascending=False)"
   ]
  },
  {
   "cell_type": "code",
   "execution_count": 11,
   "metadata": {},
   "outputs": [],
   "source": [
    "dframe = pd.read_csv(data_root_dir + \"\\Cities\\Cities Responses\\\\2018_Full_Cities_Dataset.csv\")"
   ]
  },
  {
   "cell_type": "code",
   "execution_count": 18,
   "metadata": {},
   "outputs": [],
   "source": [
    "from sqlalchemy import create_engine\n",
    "engine = create_engine('mssql+pyodbc://@Local')\n"
   ]
  },
  {
   "cell_type": "code",
   "execution_count": 1,
   "metadata": {},
   "outputs": [
    {
     "output_type": "error",
     "ename": "NameError",
     "evalue": "name 'dframe' is not defined",
     "traceback": [
      "\u001b[1;31m---------------------------------------------------------------------------\u001b[0m",
      "\u001b[1;31mNameError\u001b[0m                                 Traceback (most recent call last)",
      "\u001b[1;32m<ipython-input-1-e893b2916197>\u001b[0m in \u001b[0;36m<module>\u001b[1;34m\u001b[0m\n\u001b[1;32m----> 1\u001b[1;33m \u001b[0mdframe\u001b[0m\u001b[1;33m.\u001b[0m\u001b[0mto_sql\u001b[0m\u001b[1;33m(\u001b[0m\u001b[1;34m'2018_Full_Cities_Dataset'\u001b[0m\u001b[1;33m,\u001b[0m\u001b[0mengine\u001b[0m\u001b[1;33m)\u001b[0m\u001b[1;33m\u001b[0m\u001b[1;33m\u001b[0m\u001b[0m\n\u001b[0m",
      "\u001b[1;31mNameError\u001b[0m: name 'dframe' is not defined"
     ]
    }
   ],
   "source": [
    "dframe.to_sql('2018_Full_Cities_Dataset',engine)\n"
   ]
  },
  {
   "cell_type": "code",
   "execution_count": null,
   "metadata": {},
   "outputs": [],
   "source": [
    "# dataframe[['question_number','question_name']][dataframe['question_number'].str.contains('.')].drop_duplicates().to_clipboard()\n",
    "df = dataframe\n",
    "# df[['question_number','question_name']][df['question_number'].str.contains('\\.0')].drop_duplicates().sort_values(by='question_number').to_clipboard()\n",
    "\n",
    "\n",
    "# df[(df['question_number']=='12.4') & (~df['response_answer'].isin(['Question not applicable','No',np.nan,'Yes','Do not know','0','Not applicable']))][['response_answer']].groupby('response_answer',as_index=False).size().sort_values('size',ascending=False).to_clipboard()"
   ]
  }
 ]
}